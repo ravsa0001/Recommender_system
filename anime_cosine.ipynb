{
 "cells": [
  {
   "cell_type": "markdown",
   "id": "1d90b386",
   "metadata": {},
   "source": [
    "# Importing the libraries"
   ]
  },
  {
   "cell_type": "code",
   "execution_count": 1,
   "id": "60da1e8f",
   "metadata": {},
   "outputs": [],
   "source": [
    "import numpy as np\n",
    "import pandas as pd\n",
    "from sklearn.feature_extraction.text import CountVectorizer\n",
    "from sklearn.metrics.pairwise import cosine_similarity"
   ]
  },
  {
   "cell_type": "markdown",
   "id": "31c08831",
   "metadata": {},
   "source": [
    "# Importing the csv files "
   ]
  },
  {
   "cell_type": "code",
   "execution_count": 2,
   "id": "87fc9573",
   "metadata": {},
   "outputs": [
    {
     "data": {
      "text/html": [
       "<div>\n",
       "<style scoped>\n",
       "    .dataframe tbody tr th:only-of-type {\n",
       "        vertical-align: middle;\n",
       "    }\n",
       "\n",
       "    .dataframe tbody tr th {\n",
       "        vertical-align: top;\n",
       "    }\n",
       "\n",
       "    .dataframe thead th {\n",
       "        text-align: right;\n",
       "    }\n",
       "</style>\n",
       "<table border=\"1\" class=\"dataframe\">\n",
       "  <thead>\n",
       "    <tr style=\"text-align: right;\">\n",
       "      <th></th>\n",
       "      <th>anime_id</th>\n",
       "      <th>name</th>\n",
       "      <th>genre</th>\n",
       "      <th>type</th>\n",
       "      <th>episodes</th>\n",
       "      <th>rating</th>\n",
       "      <th>members</th>\n",
       "    </tr>\n",
       "  </thead>\n",
       "  <tbody>\n",
       "    <tr>\n",
       "      <th>0</th>\n",
       "      <td>32281</td>\n",
       "      <td>Kimi no Na wa.</td>\n",
       "      <td>Drama, Romance, School, Supernatural</td>\n",
       "      <td>Movie</td>\n",
       "      <td>1</td>\n",
       "      <td>9.37</td>\n",
       "      <td>200630</td>\n",
       "    </tr>\n",
       "    <tr>\n",
       "      <th>1</th>\n",
       "      <td>5114</td>\n",
       "      <td>Fullmetal Alchemist: Brotherhood</td>\n",
       "      <td>Action, Adventure, Drama, Fantasy, Magic, Mili...</td>\n",
       "      <td>TV</td>\n",
       "      <td>64</td>\n",
       "      <td>9.26</td>\n",
       "      <td>793665</td>\n",
       "    </tr>\n",
       "    <tr>\n",
       "      <th>2</th>\n",
       "      <td>28977</td>\n",
       "      <td>Gintama°</td>\n",
       "      <td>Action, Comedy, Historical, Parody, Samurai, S...</td>\n",
       "      <td>TV</td>\n",
       "      <td>51</td>\n",
       "      <td>9.25</td>\n",
       "      <td>114262</td>\n",
       "    </tr>\n",
       "    <tr>\n",
       "      <th>3</th>\n",
       "      <td>9253</td>\n",
       "      <td>Steins;Gate</td>\n",
       "      <td>Sci-Fi, Thriller</td>\n",
       "      <td>TV</td>\n",
       "      <td>24</td>\n",
       "      <td>9.17</td>\n",
       "      <td>673572</td>\n",
       "    </tr>\n",
       "    <tr>\n",
       "      <th>4</th>\n",
       "      <td>9969</td>\n",
       "      <td>Gintama&amp;#039;</td>\n",
       "      <td>Action, Comedy, Historical, Parody, Samurai, S...</td>\n",
       "      <td>TV</td>\n",
       "      <td>51</td>\n",
       "      <td>9.16</td>\n",
       "      <td>151266</td>\n",
       "    </tr>\n",
       "  </tbody>\n",
       "</table>\n",
       "</div>"
      ],
      "text/plain": [
       "   anime_id                              name  \\\n",
       "0     32281                    Kimi no Na wa.   \n",
       "1      5114  Fullmetal Alchemist: Brotherhood   \n",
       "2     28977                          Gintama°   \n",
       "3      9253                       Steins;Gate   \n",
       "4      9969                     Gintama&#039;   \n",
       "\n",
       "                                               genre   type episodes  rating  \\\n",
       "0               Drama, Romance, School, Supernatural  Movie        1    9.37   \n",
       "1  Action, Adventure, Drama, Fantasy, Magic, Mili...     TV       64    9.26   \n",
       "2  Action, Comedy, Historical, Parody, Samurai, S...     TV       51    9.25   \n",
       "3                                   Sci-Fi, Thriller     TV       24    9.17   \n",
       "4  Action, Comedy, Historical, Parody, Samurai, S...     TV       51    9.16   \n",
       "\n",
       "   members  \n",
       "0   200630  \n",
       "1   793665  \n",
       "2   114262  \n",
       "3   673572  \n",
       "4   151266  "
      ]
     },
     "execution_count": 2,
     "metadata": {},
     "output_type": "execute_result"
    }
   ],
   "source": [
    "animedf = pd.read_csv(\"_anime.csv\")\n",
    "animedf.head()"
   ]
  },
  {
   "cell_type": "code",
   "execution_count": 4,
   "id": "6484a3df",
   "metadata": {},
   "outputs": [
    {
     "data": {
      "text/plain": [
       "anime_id      0\n",
       "name          0\n",
       "genre        62\n",
       "type         25\n",
       "episodes      0\n",
       "rating      230\n",
       "members       0\n",
       "dtype: int64"
      ]
     },
     "execution_count": 4,
     "metadata": {},
     "output_type": "execute_result"
    }
   ],
   "source": [
    "animedf[\"name\"]"
   ]
  },
  {
   "cell_type": "code",
   "execution_count": null,
   "id": "8e7ac74f",
   "metadata": {},
   "outputs": [],
   "source": [
    "animedf[\"rating\"].describe()"
   ]
  },
  {
   "cell_type": "code",
   "execution_count": null,
   "id": "d05e52ec",
   "metadata": {},
   "outputs": [],
   "source": [
    "ratingdf = pd.read_csv(\"rating.csv\")\n",
    "ratingdf.head()"
   ]
  },
  {
   "cell_type": "markdown",
   "id": "5ed6c3b8",
   "metadata": {},
   "source": [
    "# Prepareing the data for further use "
   ]
  },
  {
   "cell_type": "code",
   "execution_count": null,
   "id": "18be8f21",
   "metadata": {},
   "outputs": [],
   "source": [
    "animedf.isnull().sum()"
   ]
  },
  {
   "cell_type": "code",
   "execution_count": null,
   "id": "d4615e7d",
   "metadata": {},
   "outputs": [],
   "source": [
    "animedf['type'] = animedf['type'].fillna('None')\n",
    "animedf['genre'] = animedf['genre'].fillna('None')\n",
    "animedf['rating'] = animedf['rating'].fillna('None')\n",
    "animedf.isnull().sum()"
   ]
  },
  {
   "cell_type": "code",
   "execution_count": null,
   "id": "e49c1de3",
   "metadata": {},
   "outputs": [],
   "source": [
    "ratingdfdf = ratingdf[ratingdf.rating > 0]\n",
    "ratingdf.rating.unique()"
   ]
  },
  {
   "cell_type": "code",
   "execution_count": null,
   "id": "c58b3f9a",
   "metadata": {},
   "outputs": [],
   "source": [
    "cV = CountVectorizer()\n",
    "vectors = cV.fit_transform(animedf[\"genre\"]).toarray()"
   ]
  },
  {
   "cell_type": "code",
   "execution_count": null,
   "id": "d71f1853",
   "metadata": {},
   "outputs": [],
   "source": [
    "similarity = cosine_similarity(vectors)"
   ]
  },
  {
   "cell_type": "code",
   "execution_count": null,
   "id": "a3bccef7",
   "metadata": {},
   "outputs": [],
   "source": [
    "similarity[0]"
   ]
  },
  {
   "cell_type": "code",
   "execution_count": null,
   "id": "27660c24",
   "metadata": {},
   "outputs": [],
   "source": [
    "def recommend(anime):\n",
    "    anime_index = animedf[animedf[\"name\"] == anime].index[0]\n",
    "    distances = similarity[anime_index]\n",
    "    anime_list = sorted(list(enumerate(distances)), reverse = True, key = lambda x:x[1])[1:10]\n",
    "    \n",
    "    for i in anime_list:\n",
    "        print(animedf[\"name\"].iloc[i[0]])"
   ]
  },
  {
   "cell_type": "code",
   "execution_count": null,
   "id": "006edfe7",
   "metadata": {},
   "outputs": [],
   "source": [
    "recommend(\"Under World\")"
   ]
  }
 ],
 "metadata": {
  "kernelspec": {
   "display_name": "Python 3 (ipykernel)",
   "language": "python",
   "name": "python3"
  },
  "language_info": {
   "codemirror_mode": {
    "name": "ipython",
    "version": 3
   },
   "file_extension": ".py",
   "mimetype": "text/x-python",
   "name": "python",
   "nbconvert_exporter": "python",
   "pygments_lexer": "ipython3",
   "version": "3.10.6"
  }
 },
 "nbformat": 4,
 "nbformat_minor": 5
}
